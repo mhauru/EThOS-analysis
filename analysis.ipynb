{
 "cells": [
  {
   "cell_type": "markdown",
   "metadata": {},
   "source": [
    "# Exploring trends in UK academia using PhD thesis metadata\n",
    "#### Markus Hauru, January 2020"
   ]
  },
  {
   "cell_type": "markdown",
   "metadata": {},
   "source": [
    "Since 2009 the British Library has been operating its [Electronic Theses Online Service](https://ethos.bl.uk) or EThOS service, that keeps track of PhD theses accepted at UK higher education institutions. The Library also makes public a [dataset](https://data.bl.uk/ethos/) of metadata for all theses in their catalogue. Quoting the EThOS website,\n",
    "\n",
    ">The EThOS dataset lists virtually all UK doctoral theses ever awarded, some 500,000 dating back to 1787. All UK HE institutions are included, but we estimate records are missing for around 10,000 titles (2%).\n",
    "\n",
    "The latest version of the dataset is from March 2018. The data includes title, year, author, and institution for each thesis, as well as a link to a full record of each thesis, which may or may not include things like keywords or access to full texts, depending on the thesis.\n",
    "\n",
    "In this notebook I explore this dataset to identify historical trends in UK academia or other interesting features it may display. While an interesting project in itself, this notebook is also an exercise for myself, to learn some basic exploratory data science tools and techniques, like basics of pandas, some network analysis, and new visualization te."
   ]
  },
  {
   "cell_type": "markdown",
   "metadata": {},
   "source": [
    "## Setup"
   ]
  },
  {
   "cell_type": "markdown",
   "metadata": {},
   "source": [
    "First off, some imports of python libraries we'll be needing, and loading the data file into a pandas DataFrame. The script will automatically download the data file into the current working directory if it isn't there yet."
   ]
  },
  {
   "cell_type": "code",
   "execution_count": 1,
   "metadata": {},
   "outputs": [],
   "source": [
    "import os\n",
    "import operator as opr\n",
    "import scipy as sp\n",
    "import numpy as np\n",
    "import pandas as pd\n",
    "import networkx as nx\n",
    "import community  # Network community finding\n",
    "from matplotlib import pyplot as plt\n",
    "import matplotlib.colors\n",
    "import seaborn as sns\n",
    "\n",
    "# for pretty-printing in notebooks\n",
    "from IPython.display import display, HTML"
   ]
  },
  {
   "cell_type": "code",
   "execution_count": 2,
   "metadata": {},
   "outputs": [],
   "source": [
    "# For pretty and interactive matplotlib plots in Jupyter Lab.\n",
    "%matplotlib widget\n",
    "# Set a consistent plotting style across the notebook using Seaborn.\n",
    "sns.set_style(\"darkgrid\")\n",
    "sns.set_context(\"notebook\")"
   ]
  },
  {
   "cell_type": "code",
   "execution_count": 3,
   "metadata": {},
   "outputs": [],
   "source": [
    "datafile = \"EThOSCSV_201803.csv\"\n",
    "if not os.path.isfile(datafile):\n",
    "    # Download and/or unzip the data file from the EThOS website.\n",
    "    # We need a couple more imports for this.\n",
    "    import zipfile\n",
    "\n",
    "    datazip = \"EThOSCSV_201803.zip\"\n",
    "    if not os.path.isfile(datazip):\n",
    "        import requests\n",
    "\n",
    "        dataurl = \"https://data.bl.uk/ethos/EThOSCSV201803.zip\"\n",
    "        with requests.Session() as s:\n",
    "            headers = {\n",
    "                \"User-agent\": \"Mozilla/5.0 (X11; Linux i686; rv:64.0) Gecko/20100101 Firefox/64.0\"\n",
    "            }\n",
    "            r = s.get(dataurl, headers=headers)\n",
    "            with open(datazip, \"wb\") as f:\n",
    "                f.write(r.content)\n",
    "    with zipfile.ZipFile(datazip, \"r\") as z:\n",
    "        z.extractall(\".\")"
   ]
  },
  {
   "cell_type": "code",
   "execution_count": 4,
   "metadata": {},
   "outputs": [],
   "source": [
    "df = pd.read_csv(datafile, encoding=\"ISO-8859-2\")"
   ]
  },
  {
   "cell_type": "markdown",
   "metadata": {},
   "source": [
    "To get an idea of what the rows in the DataFrame look like, here are some samples:"
   ]
  },
  {
   "cell_type": "code",
   "execution_count": 5,
   "metadata": {},
   "outputs": [
    {
     "data": {
      "text/html": [
       "<div>\n",
       "<style scoped>\n",
       "    .dataframe tbody tr th:only-of-type {\n",
       "        vertical-align: middle;\n",
       "    }\n",
       "\n",
       "    .dataframe tbody tr th {\n",
       "        vertical-align: top;\n",
       "    }\n",
       "\n",
       "    .dataframe thead th {\n",
       "        text-align: right;\n",
       "    }\n",
       "</style>\n",
       "<table border=\"1\" class=\"dataframe\">\n",
       "  <thead>\n",
       "    <tr style=\"text-align: right;\">\n",
       "      <th></th>\n",
       "      <th>Title</th>\n",
       "      <th>Author</th>\n",
       "      <th>Institution</th>\n",
       "      <th>Date</th>\n",
       "      <th>Qualification</th>\n",
       "      <th>EThOS URL</th>\n",
       "    </tr>\n",
       "  </thead>\n",
       "  <tbody>\n",
       "    <tr>\n",
       "      <th>0</th>\n",
       "      <td>Computation and measurement of turbulent flow ...</td>\n",
       "      <td>Loizou, Panos A.</td>\n",
       "      <td>University of Manchester</td>\n",
       "      <td>1989.0</td>\n",
       "      <td>Thesis (Ph.D.)</td>\n",
       "      <td>http://ethos.bl.uk/OrderDetails.do?uin=uk.bl.e...</td>\n",
       "    </tr>\n",
       "    <tr>\n",
       "      <th>1</th>\n",
       "      <td>Prolactin and growth hormone secretion in norm...</td>\n",
       "      <td>Prescott, R. W. G.</td>\n",
       "      <td>University of Newcastle upon Tyne</td>\n",
       "      <td>1983.0</td>\n",
       "      <td>Thesis (Ph.D.)</td>\n",
       "      <td>http://ethos.bl.uk/OrderDetails.do?uin=uk.bl.e...</td>\n",
       "    </tr>\n",
       "    <tr>\n",
       "      <th>2</th>\n",
       "      <td>Influence of strain fields on flame propagation</td>\n",
       "      <td>Mendes-Lopes, J. M. C.</td>\n",
       "      <td>University of Cambridge</td>\n",
       "      <td>1983.0</td>\n",
       "      <td>Thesis (Ph.D.)</td>\n",
       "      <td>http://ethos.bl.uk/OrderDetails.do?uin=uk.bl.e...</td>\n",
       "    </tr>\n",
       "    <tr>\n",
       "      <th>3</th>\n",
       "      <td>Connectivity, flow and transport in network mo...</td>\n",
       "      <td>Robinson, Peter Clive</td>\n",
       "      <td>University of Oxford</td>\n",
       "      <td>1984.0</td>\n",
       "      <td>Thesis (Ph.D.)</td>\n",
       "      <td>http://ethos.bl.uk/OrderDetails.do?uin=uk.bl.e...</td>\n",
       "    </tr>\n",
       "    <tr>\n",
       "      <th>4</th>\n",
       "      <td>The theory and implementation of a high qualit...</td>\n",
       "      <td>Lower, K. N.</td>\n",
       "      <td>University of Bristol</td>\n",
       "      <td>1985.0</td>\n",
       "      <td>Thesis (Ph.D.)</td>\n",
       "      <td>http://ethos.bl.uk/OrderDetails.do?uin=uk.bl.e...</td>\n",
       "    </tr>\n",
       "  </tbody>\n",
       "</table>\n",
       "</div>"
      ],
      "text/plain": [
       "                                               Title                  Author  \\\n",
       "0  Computation and measurement of turbulent flow ...        Loizou, Panos A.   \n",
       "1  Prolactin and growth hormone secretion in norm...      Prescott, R. W. G.   \n",
       "2    Influence of strain fields on flame propagation  Mendes-Lopes, J. M. C.   \n",
       "3  Connectivity, flow and transport in network mo...   Robinson, Peter Clive   \n",
       "4  The theory and implementation of a high qualit...            Lower, K. N.   \n",
       "\n",
       "                         Institution    Date   Qualification  \\\n",
       "0           University of Manchester  1989.0  Thesis (Ph.D.)   \n",
       "1  University of Newcastle upon Tyne  1983.0  Thesis (Ph.D.)   \n",
       "2            University of Cambridge  1983.0  Thesis (Ph.D.)   \n",
       "3               University of Oxford  1984.0  Thesis (Ph.D.)   \n",
       "4              University of Bristol  1985.0  Thesis (Ph.D.)   \n",
       "\n",
       "                                           EThOS URL  \n",
       "0  http://ethos.bl.uk/OrderDetails.do?uin=uk.bl.e...  \n",
       "1  http://ethos.bl.uk/OrderDetails.do?uin=uk.bl.e...  \n",
       "2  http://ethos.bl.uk/OrderDetails.do?uin=uk.bl.e...  \n",
       "3  http://ethos.bl.uk/OrderDetails.do?uin=uk.bl.e...  \n",
       "4  http://ethos.bl.uk/OrderDetails.do?uin=uk.bl.e...  "
      ]
     },
     "execution_count": 5,
     "metadata": {},
     "output_type": "execute_result"
    }
   ],
   "source": [
    "df.head()"
   ]
  },
  {
   "cell_type": "markdown",
   "metadata": {},
   "source": [
    "The first observation to make is that the data is remarkably clean. There are a few NaNs that we need to drop:"
   ]
  },
  {
   "cell_type": "code",
   "execution_count": 6,
   "metadata": {},
   "outputs": [
    {
     "name": "stdout",
     "output_type": "stream",
     "text": [
      "Number of rows with NaNs: 13\n"
     ]
    }
   ],
   "source": [
    "print(\"Number of rows with NaNs: {}\".format(df.isnull().any(axis=1).sum()))\n",
    "df = df.dropna()"
   ]
  },
  {
   "cell_type": "markdown",
   "metadata": {},
   "source": [
    "but with that done, there's little else to do. The Qualification column holds some oddities and misunderstandings, and there are few suspiciously short titles (my favourite being the 1977 thesis called \"Beds\"), but other than that, things seem in order. Most notably, the Institution and Date fields, which we'll be getting a lot of mileage from, seem spotless, without even a single typoed university name. The Dates are all just years, so I convert them to an integer type and rename the column."
   ]
  },
  {
   "cell_type": "code",
   "execution_count": 7,
   "metadata": {},
   "outputs": [],
   "source": [
    "df[\"Date\"] = df[\"Date\"].astype(np.int64)\n",
    "df.rename(columns={\"Date\": \"Year\"}, inplace=True)"
   ]
  },
  {
   "cell_type": "markdown",
   "metadata": {},
   "source": [
    "What is of some concern are the 10,000 or so theses that the British Library estimates are missing from the data set. Nowadays that's about a year's worth of theses, but it's also roughly the total number of theses in the data from before 1956. Now clearly some of the missing ones are from the last few years: Even though the set is from 2018, the number of theses in the database drops sharply after 2015, even though it's been climbing up to that point. But there's probably a significant number missing from the early years as well, considering issues of record keeping. To illustrate the late and early parts of the data set:"
   ]
  },
  {
   "cell_type": "code",
   "execution_count": 8,
   "metadata": {},
   "outputs": [],
   "source": [
    "thesiscounts_by_year = df.Year.value_counts().sort_index()"
   ]
  },
  {
   "cell_type": "code",
   "execution_count": 9,
   "metadata": {},
   "outputs": [
    {
     "data": {
      "application/vnd.jupyter.widget-view+json": {
       "model_id": "1c0c2bbbbecc4aa3a38b3ef97aff407a",
       "version_major": 2,
       "version_minor": 0
      },
      "text/plain": [
       "Canvas(toolbar=Toolbar(toolitems=[('Home', 'Reset original view', 'home', 'home'), ('Back', 'Back to previous …"
      ]
     },
     "metadata": {},
     "output_type": "display_data"
    }
   ],
   "source": [
    "fig = plt.figure(figsize=(7, 3))\n",
    "ax1 = fig.add_subplot(1, 2, 1)\n",
    "ax1.plot(thesiscounts_by_year.loc[2005:])\n",
    "plt.ylabel(\"Number of PhD theses\")\n",
    "plt.xlabel(\"Year\")\n",
    "\n",
    "ax2 = fig.add_subplot(1, 2, 2)\n",
    "ax2.plot(thesiscounts_by_year.loc[:1940])\n",
    "plt.xlabel(\"Year\")\n",
    "\n",
    "plt.tight_layout();"
   ]
  },
  {
   "cell_type": "markdown",
   "metadata": {},
   "source": [
    "Before the end of WW1 the sample sizes for each year are clearly quite low, and based on this, as well as some odd features of the data pre-WW1, I've chosen to limit the time period to study to 1925-2015."
   ]
  },
  {
   "cell_type": "code",
   "execution_count": 10,
   "metadata": {},
   "outputs": [],
   "source": [
    "late_cutoff = 2015\n",
    "early_cutoff = 1925\n",
    "thesiscounts_by_year = thesiscounts_by_year.loc[early_cutoff:late_cutoff]\n",
    "df = df[(early_cutoff <= df.Year) & (df.Year <= late_cutoff)]"
   ]
  },
  {
   "cell_type": "markdown",
   "metadata": {},
   "source": [
    "I also drop the columns we won't be using for anything. Makes for nicer reading when we print out slices of the DataFrame"
   ]
  },
  {
   "cell_type": "code",
   "execution_count": 11,
   "metadata": {},
   "outputs": [],
   "source": [
    "df.drop([\"Qualification\", \"EThOS URL\"], axis=1, inplace=True)"
   ]
  },
  {
   "cell_type": "markdown",
   "metadata": {},
   "source": [
    "## Number of theses per year and institution"
   ]
  },
  {
   "cell_type": "markdown",
   "metadata": {},
   "source": [
    "With that basic setup out of the way, let's get into this.\n",
    "\n",
    "First, a basic look at the number of PhD theses accepted in the UK over our chosen time period."
   ]
  },
  {
   "cell_type": "code",
   "execution_count": 12,
   "metadata": {},
   "outputs": [
    {
     "data": {
      "application/vnd.jupyter.widget-view+json": {
       "model_id": "c29d97c6b2dd4b36875c4634cd45937e",
       "version_major": 2,
       "version_minor": 0
      },
      "text/plain": [
       "Canvas(toolbar=Toolbar(toolitems=[('Home', 'Reset original view', 'home', 'home'), ('Back', 'Back to previous …"
      ]
     },
     "metadata": {},
     "output_type": "display_data"
    }
   ],
   "source": [
    "fig, ax = plt.subplots()\n",
    "ax.semilogy(thesiscounts_by_year)\n",
    "ax.set_ylabel(\"Number of PhD theses.\")\n",
    "ax.set_xlabel(\"Year\")\n",
    "ax.xaxis.set_major_locator(plt.MultipleLocator(10));"
   ]
  },
  {
   "cell_type": "markdown",
   "metadata": {},
   "source": [
    "Note the logarithmic vertical axis. The two word summary here would clearly be \"exponential growth\". In 1925 a bit less than a hundred PhDs were awarded, and now we are approaching 20 000 per year. The most notable features are\n",
    "* a huge dip during WW2 in the middle of the otherwise steady exponential period from 1925 to 1960. (In the early-times plot a couple of cells above you can also see a dip during WW1, although the signal there is more noisy.) There's a corresponding bump a few years after WW2, presumably from people who postponed the start of their studies until after the war and are then graduating in large batches.\n",
    "* a period of even faster exponential growth in the 1960-1975 window. One explanation for this is baby boomers hitting typical PhD age (compare the above to a UK birth rate plot [here](https://www.ons.gov.uk/peoplepopulationandcommunity/birthsdeathsandmarriages/livebirths/bulletins/birthsummarytablesenglandandwales/2017) and shift by 25 or so years), but probably the most important driver of this growth is the huge structural change in academia that we'll see in a moment.\n",
    "* a more moderate but steady pace from roughly 1975 onwards, that may be slowing down lately.\n",
    "\n",
    "Note that when I talk about rate or pace of growth here I'm talking in multiplicative terms, meaning for instance that since 1975 the number of new PhDs has been growing by a roughly constant _percentage_ per year, not a constant number."
   ]
  },
  {
   "cell_type": "markdown",
   "metadata": {},
   "source": [
    "Next let's look at the contributions of different institutions to the total output of PhDs."
   ]
  },
  {
   "cell_type": "code",
   "execution_count": 13,
   "metadata": {},
   "outputs": [],
   "source": [
    "thesiscounts_by_yearandinst = (\n",
    "    df.groupby([\"Institution\", \"Year\"])\n",
    "    .size()\n",
    "    .unstack(\"Institution\")\n",
    "    .fillna(0.0)\n",
    ")\n",
    "# Sort institutions based on PhD output in the last year of the time window.\n",
    "thesiscounts_by_yearandinst = thesiscounts_by_yearandinst.sort_values(\n",
    "    late_cutoff, axis=\"columns\", ascending=False\n",
    ")\n",
    "# Compute the proportion of PhDs produced by each institution by year.\n",
    "instratios_by_year = thesiscounts_by_yearandinst.divide(\n",
    "    thesiscounts_by_year, axis=\"index\"\n",
    ")\n",
    "# Compute integrals over time of the ratios. This isn't an especially\n",
    "# meaningful quantity, except for visually reading the next plot.\n",
    "instratio_sums = instratios_by_year.sum().sort_values(ascending=False)"
   ]
  },
  {
   "cell_type": "code",
   "execution_count": 14,
   "metadata": {},
   "outputs": [
    {
     "data": {
      "application/vnd.jupyter.widget-view+json": {
       "model_id": "05be98a5ae3c4fa1bfcd5abb7c766433",
       "version_major": 2,
       "version_minor": 0
      },
      "text/plain": [
       "Canvas(toolbar=Toolbar(toolitems=[('Home', 'Reset original view', 'home', 'home'), ('Back', 'Back to previous …"
      ]
     },
     "metadata": {},
     "output_type": "display_data"
    }
   ],
   "source": [
    "# We can't show the full legend with dozens of entries, so we restrict to a few of the\n",
    "# most important ones.\n",
    "num_legendentries = 10\n",
    "num_others = len(instratios_by_year.columns) - num_legendentries\n",
    "\n",
    "# Get the names and indices of the institutions that will cover the largest area in this\n",
    "# plot. Sort them by index.\n",
    "top_names = instratio_sums.index[:num_legendentries]\n",
    "top_inds = [list(instratios_by_year.columns).index(inst) for inst in top_names]\n",
    "top_inds, top_names = zip(*sorted(zip(top_inds, top_names)))\n",
    "\n",
    "# Pick colors that highlight the entries of in the legend.\n",
    "l = 0.35\n",
    "s = 0.4\n",
    "legend_colors = sns.hls_palette(num_legendentries, s=s, l=l)\n",
    "# Color all the other entries with the same shade of gray. Put the highlight colors\n",
    "# at the right positions in the list of all colors.\n",
    "all_colors = sns.hls_palette(num_others + num_legendentries, s=0.0, l=l)\n",
    "for i, c in zip(top_inds, legend_colors):\n",
    "    all_colors[i] = c\n",
    "\n",
    "# Make an exception to the general style by giving this plot xticks.\n",
    "style_dict = {\"xtick.bottom\": True, \"xtick.direction\": \"inout\"}\n",
    "with sns.axes_style(style_dict):\n",
    "    plt.figure(figsize=(10, 5))\n",
    "    lines = plt.stackplot(\n",
    "        instratios_by_year.index,\n",
    "        instratios_by_year.values.T,\n",
    "        colors=all_colors,\n",
    "        lw=0.05,\n",
    "    )\n",
    "    plt.ylabel(\"Proportion of PhDs\")\n",
    "    plt.xlabel(\"Year\")\n",
    "    plt.ylim(0.0, 1.0)\n",
    "    plt.xlim(early_cutoff, late_cutoff)\n",
    "    # Some fancy formatting of the legend. We show the most important legend entries\n",
    "    # in the same order that they appear in in the figure and position the legend out\n",
    "    # of the way.\n",
    "    top_lines = [lines[i] for i in top_inds]\n",
    "    plt.legend(\n",
    "        reversed(top_lines),\n",
    "        reversed(top_names),\n",
    "        loc=\"lower left\",\n",
    "        bbox_to_anchor=(1.0, 0.0),\n",
    "    )\n",
    "    plt.tight_layout()"
   ]
  },
  {
   "cell_type": "markdown",
   "metadata": {},
   "source": [
    "This plot shows the proportion of PhDs coming from different universities, each grey or colored band being one institution. The institutions are ordered by the proportion of PhDs they produced in the last year of the time window, 2015. The colors and the legend highlight a few of the most historically prominent instutions (the ones that get the largest area in the above plot).\n",
    "\n",
    "Here we can see the drastic change in the structure of higher education between roughly 1960 and 1975 that I mentioned above: There's an explosion in the number of PhDs coming from small universities. Until 1960 or so Oxford, Cambridge and Edinburgh produced 70-80% of PhDs in the country. By 1980 it was around 20%, and has stayed roughly constant since. They remain the largest PhD factories, but the field has been filled with dozens of smaller institutions. During the shift many new universities were founded (Sussex 1961, York 1963, Warwick 1965, ...), many others expanded greatly, and various colleges and other educational institutions were turned into universities. I'm not a historian, but for some background and context, check Wikipedia on for instance [University Grant Comission](https://en.wikipedia.org/wiki/University_Grants_Committee_(United_Kingdom)), [Robbins Report](https://en.wikipedia.org/wiki/Robbins_Report), and [Education Act of 1962](https://en.wikipedia.org/wiki/Education_Act_1962). I was previously aware that there was an expansion of higher education in many Western countries around this time, but the magnitude and speed of the shift in the above plot surprised me.\n",
    "\n",
    "There are also some interesting individual stories in this same plot. Oxford used to dominate its rival Cambridge with a doctoral output several times larger until the late 60s, after which the two have been roughly equal. Even Oxford was for a time ecplised by Edinburgh though, which in some years produced more than 40% of all PhDs in the UK. The historical importance of Scotland was further bolstered by Aberdeen, which used to be one of the major players until the 60s, but is now just another mid-sized entry. (It should be said though that I suspect that these early years may suffer from a significant number of missing theses, that may skew the data to some degree. The main qualitative statement probably still stands though.) Imperial has an interesting bulge of activity during the 1960s as it went through [a rapid expansion](https://en.wikipedia.org/wiki/Imperial_College_London#20th_century), a bit before many others followed suit."
   ]
  },
  {
   "cell_type": "markdown",
   "metadata": {},
   "source": [
    "Just to underline the fact that the fall in the relative importance of the top few institutions is not at all due to shrinking on their part but merely the growth of others, here are the absolute numbers of PhDs produced by the 8 institutions that contributed the most in 1960."
   ]
  },
  {
   "cell_type": "code",
   "execution_count": 15,
   "metadata": {},
   "outputs": [
    {
     "data": {
      "application/vnd.jupyter.widget-view+json": {
       "model_id": "32e1d698c6a44db88b51c7cef0035b4e",
       "version_major": 2,
       "version_minor": 0
      },
      "text/plain": [
       "Canvas(toolbar=Toolbar(toolitems=[('Home', 'Reset original view', 'home', 'home'), ('Back', 'Back to previous …"
      ]
     },
     "metadata": {},
     "output_type": "display_data"
    }
   ],
   "source": [
    "num_insts = 4\n",
    "counts_top = thesiscounts_by_yearandinst.sort_values(\n",
    "    1960, axis=1, ascending=False\n",
    ")\n",
    "counts_top = counts_top.iloc[:, :num_insts]\n",
    "counts_top = (\n",
    "    counts_top.unstack().reset_index().rename(columns={0: \"Number of theses\"})\n",
    ")\n",
    "g = sns.FacetGrid(\n",
    "    counts_top, col=\"Institution\", col_wrap=4, sharey=True, sharex=True\n",
    ")\n",
    "g.map(plt.plot, \"Year\", \"Number of theses\").set_titles(\"{col_name}\");"
   ]
  },
  {
   "cell_type": "markdown",
   "metadata": {},
   "source": [
    "## Words, words, words..."
   ]
  },
  {
   "cell_type": "markdown",
   "metadata": {},
   "source": [
    "So far we've only looked at where and when PhD theses have been written. The dataset doesn't hold that much more information to toy with. It doesn't list departments or faculties, keywords or research fields, nor do I have easy access to full texts of the theses. But what it does have is the titles of these theses. Let's see what we can learn from them."
   ]
  },
  {
   "cell_type": "markdown",
   "metadata": {},
   "source": [
    "### Setting up the title analysis"
   ]
  },
  {
   "cell_type": "markdown",
   "metadata": {},
   "source": [
    "Before we get to looking at trends in titles, we need to spend a moment setting up some machinery that we can then milk."
   ]
  },
  {
   "cell_type": "markdown",
   "metadata": {},
   "source": [
    "Now thesis titles aren't exactly prose. They typically aren't full sentences and their grammatical forms vary wildly, which makes analysis of their linguistic structure tricky and, I would guess, in many cases a bit futile. Unlike with more structured text, almost as much information as in the title itself is contained in just a list of words appearing in the title. Lists of words are also easy to analyse, so we'll go with that.\n",
    "\n",
    "To start, we strip the titles of any punctation and so called stop words like articles and prepositions that don't tell us much, and make everything lower case. We could also do what's called stemming, and collapse for instance \"study\", \"studies\", \"studied\" and \"studying\" all into a single word. I choose not to do this because as we'll see below, different inflections of the same stem word sometimes appear in significantly different kinds of titles. Moreover, with academic vocabulary, doing this properly isn't straight-forward: the stemming algorithm should for instance know to combine \"phenomenon\" and \"phenomena\", but perhaps not \"phenomenal\" or \"phenomenology\", and certainly not \"phenolic\". A quick experiment that I did with one stemmer also suggested that the following results wouldn't be greatly affected.\n",
    "\n",
    "Another choice I make is to remove hyphens as unnecessary punctuation. Here you lose some and you win some. \"Post-modern\" should certainly be grouped together with \"postmodern\", but \"biodiversity-ecosystem\" (which appears in 5 titles) would be better split into two words."
   ]
  },
  {
   "cell_type": "code",
   "execution_count": 16,
   "metadata": {},
   "outputs": [],
   "source": [
    "def splitstr(s):\n",
    "    \"\"\" For a string, remove most punctuation, lower case, and split into words. Return the words.\n",
    "    \"\"\"\n",
    "    puncts = \"!\\\"&'(),./:;<=>?[\\\\]`{|}-\"\n",
    "    words = s.lower().translate(str.maketrans(\"\", \"\", puncts)).split()\n",
    "    # Remove duplicates. We don't care if a word occurs multiple times in the same title.\n",
    "    words = tuple(set(words))\n",
    "    return words\n",
    "\n",
    "\n",
    "def filter_stopwords(l):\n",
    "    \"\"\" Take a list of strings, filter out prepositions, articles, and other stop words.\n",
    "    We use a list of English stop words found here: https://www.textfixer.com/tutorials/common-english-words.txt\n",
    "    \"\"\"\n",
    "    # We stop black from automatically splitting this across a gazillion lines with the fmt: off/on.\n",
    "    # fmt: off\n",
    "    stops = [\"a\", \"able\", \"about\", \"across\", \"after\", \"all\", \"almost\", \"also\", \"am\", \"among\", \"an\", \"and\", \"any\", \"are\", \"as\", \"at\", \"be\", \"because\", \"been\", \"but\", \"by\", \"can\", \"cannot\", \"could\", \"dear\", \"did\", \"do\", \"does\", \"either\", \"else\", \"ever\", \"every\", \"for\", \"from\", \"get\", \"got\", \"had\", \"has\", \"have\", \"he\", \"her\", \"hers\", \"him\", \"his\", \"how\", \"however\", \"i\", \"if\", \"in\", \"into\", \"is\", \"it\", \"its\", \"just\", \"least\", \"let\", \"like\", \"likely\", \"may\", \"me\", \"might\", \"most\", \"must\", \"my\", \"neither\", \"no\", \"nor\", \"not\", \"of\", \"off\", \"often\", \"on\", \"only\", \"or\", \"other\", \"our\", \"own\", \"rather\", \"said\", \"say\", \"says\", \"she\", \"should\", \"since\", \"so\", \"some\", \"than\", \"that\", \"the\", \"their\", \"them\", \"then\", \"there\", \"these\", \"they\", \"this\", \"tis\", \"to\", \"too\", \"twas\", \"us\", \"wants\", \"was\", \"we\", \"were\", \"what\", \"when\", \"where\", \"which\", \"while\", \"who\", \"whom\", \"why\", \"will\", \"with\", \"would\", \"yet\", \"you\", \"your\"]\n",
    "    # fmt: on\n",
    "    return tuple(s for s in l if s not in stops)"
   ]
  },
  {
   "cell_type": "code",
   "execution_count": 17,
   "metadata": {},
   "outputs": [],
   "source": [
    "df[\"Words\"] = df[\"Title\"].apply(splitstr).apply(filter_stopwords)"
   ]
  },
  {
   "cell_type": "markdown",
   "metadata": {},
   "source": [
    "To get the title analysis going, we want three different objects:\n",
    "* A DataFrame that lists the total number of titles in which each word appears.\n",
    "* The same thing but now per year. (We could do per institution as well, but let's leave that for later.)\n",
    "* A so called co-occurrence graph (or network), i.e. a weighted graph where nodes are words and edges tell us which words appear together in titles and how often."
   ]
  },
  {
   "cell_type": "code",
   "execution_count": 18,
   "metadata": {},
   "outputs": [],
   "source": [
    "wordcounts_by_year = (\n",
    "    df.groupby(\"Year\")[\"Words\"]\n",
    "    .apply(lambda x: pd.Series(np.concatenate(x.tolist())).value_counts())\n",
    "    .unstack(\"Year\")\n",
    "    .fillna(0.0)\n",
    "    .T\n",
    ")"
   ]
  },
  {
   "cell_type": "code",
   "execution_count": 19,
   "metadata": {},
   "outputs": [],
   "source": [
    "total_wordcounts = wordcounts_by_year.sum(axis=0)\n",
    "# Sort both total_wordcounts and wordcounts_by_year to have the most common words first.\n",
    "order = (-total_wordcounts).argsort()\n",
    "total_wordcounts = total_wordcounts[order]\n",
    "allwords = total_wordcounts.index\n",
    "wordcounts_by_year = wordcounts_by_year.reindex(allwords, axis=1)"
   ]
  },
  {
   "cell_type": "markdown",
   "metadata": {},
   "source": [
    "Let's also compute the occurrences of each word per a 1000 thesis, in each given year, to measure the relative popularity."
   ]
  },
  {
   "cell_type": "code",
   "execution_count": 20,
   "metadata": {},
   "outputs": [],
   "source": [
    "wordratios_by_year = 1000 * wordcounts_by_year.divide(\n",
    "    thesiscounts_by_year, axis=0\n",
    ")"
   ]
  },
  {
   "cell_type": "markdown",
   "metadata": {},
   "source": [
    "Making the co-occurrence graph requires some thought. First off, we've got around 190,000 distinct words in about 450,000 titles (academics like their jargon). However, only 20,000 or so of them appear in more than 10 thesis titles."
   ]
  },
  {
   "cell_type": "code",
   "execution_count": 21,
   "metadata": {},
   "outputs": [
    {
     "name": "stdout",
     "output_type": "stream",
     "text": [
      "Number of unique words: 190252. Number of theses: 451755. Number of words with more than 10 occurrences: 21584.\n"
     ]
    }
   ],
   "source": [
    "wordcount_cutoff = 10\n",
    "print(\n",
    "    \"Number of unique words: {}. Number of theses: {}. Number of words with more than {} occurrences: {}.\".format(\n",
    "        len(total_wordcounts),\n",
    "        len(df),\n",
    "        wordcount_cutoff,\n",
    "        (total_wordcounts > wordcount_cutoff).sum(),\n",
    "    )\n",
    ")"
   ]
  },
  {
   "cell_type": "markdown",
   "metadata": {},
   "source": [
    "Thus I choose to restrict the graph to this subset of words, since it makes it computationally much lighter to handle, without causing much of a loss: Words that only occur in a handful of thesis titles probably wouldn't add much to the analysis anyway."
   ]
  },
  {
   "cell_type": "code",
   "execution_count": 22,
   "metadata": {},
   "outputs": [],
   "source": [
    "mainwords = allwords[total_wordcounts > wordcount_cutoff]"
   ]
  },
  {
   "cell_type": "markdown",
   "metadata": {},
   "source": [
    "Note also that when making word co-occurrence graphs of texts, co-occurrences are often given more weight if the words are next to each rather than just in the same sentence. I don't make this distinction since the titles are pretty short anyway, and word orders in titles can be unusual, making proximity less relevant."
   ]
  },
  {
   "cell_type": "markdown",
   "metadata": {},
   "source": [
    "For the graph/network, I use the [NetworkX](https://networkx.github.io/) package. It represents graphs as adjacency lists, which suits our quite sparse co-occurrence graph well."
   ]
  },
  {
   "cell_type": "code",
   "execution_count": 23,
   "metadata": {},
   "outputs": [],
   "source": [
    "cooc_graph = nx.Graph()\n",
    "cooc_graph.add_nodes_from(mainwords)\n",
    "for words in df[\"Words\"]:\n",
    "    words = tuple(filter(lambda w: w in mainwords, words))\n",
    "    for i in range(len(words)):\n",
    "        wi = words[i]\n",
    "        # The second loop starts from i+1 to avoid double-counting.\n",
    "        for j in range(i + 1, len(words)):\n",
    "            wj = words[j]\n",
    "            if wi in cooc_graph[wj]:\n",
    "                # This edge already exists, increment the weight\n",
    "                cooc_graph[wi][wj][\"weight\"] += 1.0\n",
    "            else:\n",
    "                # This edge doesn't yet exist, create it.\n",
    "                cooc_graph.add_edge(wi, wj, weight=1.0)"
   ]
  },
  {
   "cell_type": "markdown",
   "metadata": {},
   "source": [
    "As we have it now, the edge weights of the graph just count the number of theses in which both words appear. This isn't quite what we want, since it's dominated by commonly occuring words. There's several different ways we could normalize the weights. Dividing by the total appearance counts of the words (diagonal of the adjacency matrix) would make the weight of the edge between nodes A and B represent a conditional probability (or rather a frequency) P(A|B) of word A appearing in a title given that word B appears. We could also make a bidirectional graph that has both P(A|B) and P(B|A) stored for each edge. Or we could do a number of more symmetric normalizations that don't have as concrete an interpretation. A choice that I've found works well for what I want to do with this graph later is normalizing the edge between A and B by average of the frequencies of A and B. This is symmetric (the graph is undirected) and roughly speaking gives a large weight for edges that connect two words that appear roughly equally frequently and often together."
   ]
  },
  {
   "cell_type": "code",
   "execution_count": 24,
   "metadata": {},
   "outputs": [],
   "source": [
    "for w1, w2 in cooc_graph.edges:\n",
    "    avg_count = (total_wordcounts[w1] + total_wordcounts[w2]) / 2.0\n",
    "    cooc_graph[w1][w2][\"weight\"] /= avg_count"
   ]
  },
  {
   "cell_type": "markdown",
   "metadata": {},
   "source": [
    "Finally, a few convenient functions for studying individual words: Getting example thesis titles with a word init, getting related words, and outputting a summary of a word (popularity plot, related words, examples)."
   ]
  },
  {
   "cell_type": "code",
   "execution_count": 25,
   "metadata": {},
   "outputs": [],
   "source": [
    "def get_example_titles(word, n=1):\n",
    "    \"\"\" For a given word `w`, return a tuple of `n` randomly picked thesis titles that have `w` in it.\n",
    "    \"\"\"\n",
    "    titles_with_word = df[df[\"Words\"].apply(lambda x: word in x)][\"Title\"]\n",
    "    n = min(n, len(titles_with_word))\n",
    "    examples = tuple(titles_with_word.sample(n).values)\n",
    "    return examples\n",
    "\n",
    "\n",
    "def get_related_words(w, n=5, weights=True):\n",
    "    \"\"\" For a given word `w`, get the `n` words with\n",
    "    heaviest edges connected to w in the co-occurrence graph.\n",
    "    Returns a list of tuples `(neighbour word, weight)`, sorted by weight,\n",
    "    or alternatively just a list of `neighbour_word`s if `weights=False`.\n",
    "    \"\"\"\n",
    "    if w not in cooc_graph:\n",
    "        # This word is not in the co-occurrence network.\n",
    "        return ()\n",
    "    node = cooc_graph[w]\n",
    "    neighbourlist = ((k, v[\"weight\"]) for k, v in node.items())\n",
    "    neighbourlist = sorted(neighbourlist, key=opr.itemgetter(1), reverse=True)[\n",
    "        :n\n",
    "    ]\n",
    "    if not weights:\n",
    "        neighbourlist = [w[0] for w in neighbourlist]\n",
    "    return neighbourlist\n",
    "\n",
    "\n",
    "def output_word_summary(w, n_related=3, n_examples=3, plot=True):\n",
    "    \"\"\" Print and plot (if `plot=True`) a summary of data for the word `w`.\n",
    "    \"\"\"\n",
    "    print(\"Word: {}\".format(w))\n",
    "    if n_related > 0:\n",
    "        print(\"Related words:\")\n",
    "        [\n",
    "            print(\" {}: {}\".format(*w))\n",
    "            for w in get_related_words(w, n=n_related)\n",
    "        ]\n",
    "    if n_examples:\n",
    "        print(\"Example titles:\")\n",
    "        [\n",
    "            print(\" {}\".format(title))\n",
    "            for title in get_example_titles(w, n=n_examples)\n",
    "        ]\n",
    "    if plot:\n",
    "        fig, ax1 = plt.subplots(figsize=(5, 3))\n",
    "        ax1.plot(wordcounts_by_year[w], color=\"black\")\n",
    "        title = \"Number and proportion of theses\\nwith '{}' in the title\".format(\n",
    "            w\n",
    "        )\n",
    "        ax1.set_title(title)\n",
    "        ax1.set_ylabel(\"Absolute umber (black)\".format(w))\n",
    "        ax1.set_xlabel(\"Year\")\n",
    "        ax2 = ax1.twinx()\n",
    "        ax2.plot(wordratios_by_year[w], color=\"darkred\")\n",
    "        ax2.set_ylabel(\"Per 1000 theses (red)\".format(w))\n",
    "        fig.tight_layout()"
   ]
  },
  {
   "cell_type": "markdown",
   "metadata": {},
   "source": [
    "### Trends in individual words"
   ]
  },
  {
   "cell_type": "markdown",
   "metadata": {},
   "source": [
    "With all that set-up out of the way, let's see if these titles hold some interesting. First off, what are the most commonly occuring words in thesis titles, and how does their popularity vary over time?"
   ]
  },
  {
   "cell_type": "code",
   "execution_count": 26,
   "metadata": {},
   "outputs": [
    {
     "data": {
      "application/vnd.jupyter.widget-view+json": {
       "model_id": "fab74734c06949dd920c64b899a74d0d",
       "version_major": 2,
       "version_minor": 0
      },
      "text/plain": [
       "Canvas(toolbar=Toolbar(toolitems=[('Home', 'Reset original view', 'home', 'home'), ('Back', 'Back to previous …"
      ]
     },
     "metadata": {},
     "output_type": "display_data"
    },
    {
     "name": "stdout",
     "output_type": "stream",
     "text": [
      "--------------------------------------------------\n",
      "Word: study\n",
      "Related words:\n",
      " case: 0.2097815470376635\n",
      " comparative: 0.1153317337503033\n",
      " development: 0.05929317390646284\n",
      "Example titles:\n",
      " Traditional Chewa Religious Beliefs and Practices: A Study in the Explanation of Evil and Suffering, and Ways of Dealing with them\n",
      " A diffusion tensor imaging study of neuropsychologically assessed euthymic patients with bipolar disorder\n",
      " Ecclesiastical penance in the church of constantinople: A study of the hagiographical evidence to 983 A.D\n",
      "--------------------------------------------------\n",
      "Word: studies\n",
      "Related words:\n",
      " structural: 0.09210299541553205\n",
      " synthesis: 0.050235956766631146\n",
      " synthetic: 0.048787855902122194\n",
      "Example titles:\n",
      " Catalytic studies of heteropoly compounds on propane oxidation\n",
      " Electrochemical and X-ray studies on surface films on metals\n",
      " Some studies in the infra-red region of the spectrum\n",
      "--------------------------------------------------\n",
      "Word: development\n",
      "Related words:\n",
      " system: 0.06787693205016039\n",
      " application: 0.06536252134761683\n",
      " role: 0.0598641998380365\n",
      "Example titles:\n",
      " Transport and regional development in Bangladesh : a geographical study\n",
      " The development of motor activity in muscles of different function and the effect of lesions during a critical period of development\n",
      " An evaluation of the social action process as a mechanism for the transfer of knowledge to facilitate the development of new children's services in Ukraine\n",
      "--------------------------------------------------\n",
      "Word: analysis\n",
      "Related words:\n",
      " using: 0.06964454230890217\n",
      " data: 0.06052919308987535\n",
      " functional: 0.053515590100955954\n",
      "Example titles:\n",
      " Primary and vicarious posttraumatic growth following genocide, war and humanitarian emergencies : an interpretative phenomenological analysis\n",
      " Personal beliefs and professional practice : A comparative study of Buddhist and socialist social workers in Britain and Japan as the basis of an analysis of the relationship between personal belief systems and social work practice\n",
      " A macroeconomic and spatial analysis of long-distance exchange : the amphora evidence from Roman Britain\n"
     ]
    }
   ],
   "source": [
    "num_topwords = 4\n",
    "topwords = allwords[:num_topwords]\n",
    "topword_ratios = wordratios_by_year.loc[:, topwords]\n",
    "g = sns.FacetGrid(\n",
    "    topword_ratios.unstack()\n",
    "    .reset_index()\n",
    "    .rename(columns={0: \"Occurrences per 1000 theses\", \"level_0\": \"Word\"}),\n",
    "    col=\"Word\",\n",
    "    col_wrap=4,\n",
    "    sharex=True,\n",
    "    sharey=True,\n",
    ")\n",
    "g.map(plt.plot, \"Year\", \"Occurrences per 1000 theses\").set_titles(\"{col_name}\")\n",
    "for w in topwords:\n",
    "    print(\"-\" * 50)\n",
    "    output_word_summary(w, plot=False)"
   ]
  },
  {
   "cell_type": "markdown",
   "metadata": {},
   "source": [
    "Nothing too exciting here: Generic terms that appear in all kinds of titles. Both \"study\" and \"studies\" have clearly fallen into relative disuse since the 70s."
   ]
  },
  {
   "cell_type": "markdown",
   "metadata": {},
   "source": [
    "Much more interesting than the most popular words, are those whose popularity has been fleeting. One could get at this in a million different ways, but here's one that I found interesting. For each decade, find the top 3 words whose popularity that decade was the most disproportionately large compared to their popularity over all time. In other words, rank words by number of occurences in a given decade, divided by total number of occurences. To not have this be dominated by words occuring in only a handful of theses, further restrict to words with at least 100 occurences in total. I'll also print for each word some of the commonly co-occurring words, to give some context."
   ]
  },
  {
   "cell_type": "code",
   "execution_count": 27,
   "metadata": {},
   "outputs": [
    {
     "name": "stdout",
     "output_type": "stream",
     "text": [
      "1930s:\n",
      "notes            ['introduction', 'glossary', 'edited']\n",
      "solvents         ['eutectic', 'nonpolar', 'nonaqueous']\n",
      "prognosis        ['diagnosis', 'aetiology', 'infarction']\n",
      "-------------------------------------------------------------------------------\n",
      "1940s:\n",
      "substances       ['humic', 'pectic', 'psychoactive']\n",
      "constitution     ['alloys', 'constitutional', 'discursive']\n",
      "cases            ['hundred', 'review', 'report']\n",
      "-------------------------------------------------------------------------------\n",
      "1950s:\n",
      "radioactive      ['disposal', 'tracer', 'waste']\n",
      "substances       ['humic', 'pectic', 'psychoactive']\n",
      "constituents     ['nitrogenous', 'milk', 'leaves']\n",
      "-------------------------------------------------------------------------------\n",
      "1960s:\n",
      "elementary       ['particles', 'particle', 'physics']\n",
      "polysaccharides  ['algal', 'pectic', 'enzymic']\n",
      "bubble           ['chamber', 'columns', 'coalescence']\n",
      "-------------------------------------------------------------------------------\n",
      "1970s:\n",
      "gevc             ['kp', '10', '16']\n",
      "prostaglandins   ['parturition', 'leucocytes', 'menstruation']\n",
      "ultrastructure   ['cytochemistry', 'histochemistry', 'cytology']\n",
      "-------------------------------------------------------------------------------\n",
      "1980s:\n",
      "microprocessor   ['pwm', 'inverter', 'drive']\n",
      "monoclonal       ['antibodies', 'antibody', 'antigens']\n",
      "diagenesis       ['sedimentology', 'sandstones', 'jurassic']\n",
      "-------------------------------------------------------------------------------\n",
      "1990s:\n",
      "objectoriented   ['database', 'databases', 'query']\n",
      "atm              ['traffic', 'congestion', 'switch']\n",
      "lipoprotein      ['lipase', 'density', 'cholesterol']\n",
      "-------------------------------------------------------------------------------\n",
      "2000s:\n",
      "globalisation    ['era', 'firmlevel', 'olympic']\n",
      "internet         ['banking', 'online', 'protocol']\n",
      "ict              ['adoption', 'teachers', 'technology']\n",
      "-------------------------------------------------------------------------------\n",
      "2010s:\n",
      "graphene         ['epitaxial', 'nanoelectronics', 'nanotubes']\n",
      "mindfulness      ['selfcompassion', 'meditation', 'dispositional']\n",
      "resilience       ['socialecological', 'disaster', 'vulnerability']\n",
      "-------------------------------------------------------------------------------\n"
     ]
    }
   ],
   "source": [
    "num_topwords = 3\n",
    "occurrence_cutoff = 100\n",
    "notrare_words = total_wordcounts > occurrence_cutoff\n",
    "for start_year in range(1930, 2020, 10):\n",
    "    end_year = start_year + 10\n",
    "    print(\"{}s:\".format(start_year))\n",
    "    decade_top_words = (\n",
    "        wordcounts_by_year.loc[start_year:end_year, notrare_words].sum()\n",
    "        / total_wordcounts\n",
    "    ).sort_values(ascending=False)\n",
    "    for w in decade_top_words.index[:num_topwords]:\n",
    "        # The w[0] picks just the word, and leaves out the weight.\n",
    "        neighbours = get_related_words(w, n=3, weights=False)\n",
    "        print(\"{:15}  {}\".format(w, neighbours))\n",
    "    print(\"-\" * 79)"
   ]
  },
  {
   "cell_type": "markdown",
   "metadata": {},
   "source": [
    "The 30s, 40s, and 50s look quite similar, with pretty generic terminology, especially science terminology, trending high, but from that point on things get more specialised and interesting. Plenty of particle physics in the 60s and 70s (a bubble chamber is a type of particle physics experiment and GeV/c, gigaelectronvolts per speed of light, is a a unit for momentum in particle physics), when new particles were constantly being discovered. The 80s, 90s and 2000s have a lot of computer science and communication technology words in the lead (ATM in most cases stands for asynchronous transfer mode), giving way to \"mindfulness\" and \"resilience\" in the last decade. They also highlight the relative lack of humanities and social sciences terminology in the list, but we'll come back that later.\n",
    "\n",
    "The prospective rabbit holes here are endless, but just for highlighting, here's a bit more detail on a few select words from the above list."
   ]
  },
  {
   "cell_type": "code",
   "execution_count": 28,
   "metadata": {},
   "outputs": [
    {
     "data": {
      "application/vnd.jupyter.widget-view+json": {
       "model_id": "b308fc85e7ad43c1bb7cae4b90c76ed9",
       "version_major": 2,
       "version_minor": 0
      },
      "text/plain": [
       "Canvas(toolbar=Toolbar(toolitems=[('Home', 'Reset original view', 'home', 'home'), ('Back', 'Back to previous …"
      ]
     },
     "metadata": {},
     "output_type": "display_data"
    },
    {
     "name": "stdout",
     "output_type": "stream",
     "text": [
      "--------------------------------------------------\n",
      "Word: bubble\n",
      "Related words:\n",
      " chamber: 0.23267326732673269\n",
      " columns: 0.0691358024691358\n",
      " coalescence: 0.060836501901140684\n",
      "Example titles:\n",
      " Bubble sizes in centrifugal fields\n",
      " Studies of coalescence in bubble swarms\n",
      " The mixing of liquids by a bubble plume\n",
      "--------------------------------------------------\n",
      "Word: diagenesis\n",
      "Related words:\n",
      " sedimentology: 0.14255765199161424\n",
      " sandstones: 0.10810810810810811\n",
      " jurassic: 0.07514450867052024\n",
      "Example titles:\n",
      " Early chemical diagenesis and sedimentology in a high energy sublittoral marine environment, Swansea Bay\n",
      " Geochemistry and carbonate diagenesis of the Kimmeridge Clay, Dorset Coast, U.K\n",
      " Sedimentology, diagenesis and reservoir characteristics of Eocene carbonates Sirt Basin, Libya\n",
      "--------------------------------------------------\n",
      "Word: globalisation\n",
      "Related words:\n",
      " era: 0.04203152364273205\n",
      " firmlevel: 0.03319502074688797\n",
      " olympic: 0.028169014084507043\n",
      "Example titles:\n",
      " Globalisation and security : the migration of the Taiwanese semiconductor industry to China and its implications for the US-China-Taiwan security relations\n",
      " French multinationals' international strategy : national identity under the effect of globalisation\n",
      " The information revolution, globalisation, and the Arab world : a study of the new media (satellite broadcasting and the Internet) and its impact on the politics and culture of the Arab world\n",
      "--------------------------------------------------\n",
      "Word: mindfulness\n",
      "Related words:\n",
      " selfcompassion: 0.08974358974358974\n",
      " meditation: 0.06666666666666667\n",
      " dispositional: 0.03125\n",
      "Example titles:\n",
      " The impact of mindfulness practice on cognition and affective change in psychosis : a multiple baseline design\n",
      " Cultivating mindfulness: an exploration of relationships between mindfulness, attachment and emotion regulation\n",
      " Exploring the process of change and acceptability of mindfulness\n"
     ]
    }
   ],
   "source": [
    "selectwords = [\"bubble\", \"diagenesis\", \"globalisation\", \"mindfulness\"]\n",
    "selectword_ratios = wordratios_by_year.loc[:, selectwords]\n",
    "g = sns.FacetGrid(\n",
    "    selectword_ratios.unstack()\n",
    "    .reset_index()\n",
    "    .rename(columns={0: \"Occurrences per 1000 theses\", \"level_0\": \"Word\"}),\n",
    "    col=\"Word\",\n",
    "    col_wrap=4,\n",
    "    sharex=True,\n",
    "    sharey=False,\n",
    ")\n",
    "g.map(plt.plot, \"Year\", \"Occurrences per 1000 theses\").set_titles(\"{col_name}\")\n",
    "for w in selectwords:\n",
    "    print(\"-\" * 50)\n",
    "    output_word_summary(w, plot=False)"
   ]
  },
  {
   "cell_type": "markdown",
   "metadata": {},
   "source": [
    "## 12 points go to Humanities"
   ]
  },
  {
   "cell_type": "markdown",
   "metadata": {},
   "source": [
    "Individual words like those above tell us stories of individual scientific discoveries and hot topics, but they have their limits if we want to study larger academic trends. However, one would naturally expect the co-occurrences of words in titles to follow patterns, where words related to fields and subfields would often appear together. Our next goal is to see if this indeed happens, and assuming it does (yes, it does), use it to\n",
    "* identify what are the academic field distinctions that the co-occurence graph holds.\n",
    "* analyse how the popularities of these different fields have varied.\n",
    "\n",
    "So we want to find groups of words that typically appear together. This could be called clustering, but in the context of networks/graphs like our co-occurrence graph, it usually goes by the name of community structure. There's plenty of research done on developing algorithms for identifying communities. We use below one quite well-known one, the [Louvain algorithm](https://arxiv.org/abs/0803.0476), which is a heuristic algorithm based on optimizing the modularity of the graph, i.e. minimizing the weight of edges connecting different communities and maximizing the weight of edges internal to communities. I tried a few other methods as well, most notably label-propagation and stochastic block models, but at least with the parameters that I tried they seemed to produce communities that were either very small or did not match well my human intuition of which words I would expect to be related."
   ]
  },
  {
   "cell_type": "markdown",
   "metadata": {},
   "source": [
    "If you are running this notebook yourself, you can safely go make a cup of tea at this point. The community finding takes around  minutes on my laptop."
   ]
  },
  {
   "cell_type": "code",
   "execution_count": 29,
   "metadata": {},
   "outputs": [],
   "source": [
    "partition = community.best_partition(cooc_graph)"
   ]
  },
  {
   "cell_type": "code",
   "execution_count": 30,
   "metadata": {},
   "outputs": [],
   "source": [
    "# community.best_partition returns a dictionary of {word: community_label}.\n",
    "# Lets turn that into a DataFrame and extract the lists of words belonging to each community.\n",
    "community_labels = pd.DataFrame(\n",
    "    {\"Label\": tuple(partition.values())},\n",
    "    index=partition.keys(),\n",
    "    dtype=\"category\",\n",
    ")\n",
    "communities = tuple(\n",
    "    map(tuple, community_labels.groupby(\"Label\").groups.values())\n",
    ")"
   ]
  },
  {
   "cell_type": "markdown",
   "metadata": {},
   "source": [
    "Let's take a look at what we found."
   ]
  },
  {
   "cell_type": "code",
   "execution_count": 31,
   "metadata": {},
   "outputs": [
    {
     "name": "stdout",
     "output_type": "stream",
     "text": [
      "Number of communities: 15\n",
      "Numbers of words in the communities: [3630, 5807, 4115, 5020, 2974, 11, 4, 3, 2, 3, 5, 3, 2, 3, 2]\n",
      "Some example words from each community:\n",
      "('study', 'development', 'analysis', 'investigation', 'role', 'case', 'social', 'between', 'reference', 'use', 'behaviour', 'approach', 'theory', 'management', 'new', 'model', 'aspects', 'performance', 'education', 'factors', 'impact', 'evaluation', 'learning', 'english', 'health', 'policy', 'british', 'during', 'towards', 'special', 'influence', 'uk', 'change', 'practice', 'england', 'assessment', 'children', 'production', 'process', 'processes')\n",
      "\n",
      "('studies', 'using', 'systems', 'control', 'modelling', 'design', 'synthesis', 'system', 'properties', 'structure', 'application', 'effect', 'applications', 'high', 'models', 'based', 'methods', 'dynamics', 'structural', 'techniques', 'flow', 'data', 'experimental', 'networks', 'metal', 'power', 'interaction', 'problems', 'reactions', 'energy', 'processing', 'structures', 'materials', 'surface', 'related', 'compounds', 'water', 'measurement', 'optical', 'magnetic')\n",
      "\n",
      "('effects', 'human', 'characterisation', 'novel', 'molecular', 'cell', 'cells', 'growth', 'disease', 'regulation', 'function', 'interactions', 'protein', 'mechanisms', 'genetic', 'response', 'gene', 'cancer', 'expression', 'functional', 'potential', 'activity', 'metabolism', 'responses', 'proteins', 'identification', 'patients', 'complex', 'rat', 'acid', 'resistance', 'dna', 'associated', 'biological', 'changes', 'receptor', 'vitro', 'virus', 'type', 'signalling')\n",
      "\n",
      "('early', 'history', 'century', 'contemporary', 'late', 'art', 'modern', 'war', 'music', 'literature', 'representation', 'writing', 'fiction', 'historical', 'works', 'poetry', 'american', 'french', 'representations', 'interpretation', 'de', 'religious', 'john', 'thought', 'literary', 'greek', 'church', 'significance', 'period', 'theology', 'narrative', 'german', 'place', 'irish', 'philosophy', 'roman', 'christian', 'old', 'translation', 'france')\n",
      "\n",
      "('evolution', 'l', 'distribution', 'ecology', 'scotland', 'central', 'species', 'north', 'population', 'plant', 'biology', 'soil', 'variation', 'southern', 'region', 'marine', 'western', 'composition', 'sea', 'area', 'nitrogen', 'climate', 'plants', 'conservation', 'eastern', 'populations', 'diversity', 'soils', 'ecological', 'certain', 'morphology', 'temporal', 'landscape', 'forest', 'upper', 'lower', 'physiology', 'river', 'impacts', 'microbial')\n",
      "\n",
      "('bath', 'monooxygenase', 'oxidising', 'capsulatus', 'methylotrophic', 'obligate', 'methylococcus', 'methanotrophs', 'ob3b', 'methylosinus', 'trichosporium')\n",
      "\n",
      "('es', 'dar', 'frustration', 'salaam')\n",
      "\n",
      "('implantable', 'cardioverter', 'defibrillator')\n",
      "\n",
      "('script', 'cursive')\n",
      "\n",
      "('saccharopolyspora', 'erythraea', 'erythromycin')\n",
      "\n",
      "('described', 'suboptimal', 'fedbatch', 'exothermic', 'chosen')\n",
      "\n",
      "('faso', 'burkina', 'manoeuvre')\n",
      "\n",
      "('jumping', 'conclusions')\n",
      "\n",
      "('lightinduced', 'myxococcus', 'xanthus')\n",
      "\n",
      "('legionella', 'pneumophila')\n",
      "\n"
     ]
    }
   ],
   "source": [
    "print(\"Number of communities: {}\".format(len(communities)))\n",
    "print(\n",
    "    \"Numbers of words in the communities: {}\".format(\n",
    "        [len(c) for c in communities]\n",
    "    )\n",
    ")\n",
    "print(\"Some example words from each community:\")\n",
    "num_example_words = 40\n",
    "[print(c[:num_example_words], end=\"\\n\\n\") for c in communities];"
   ]
  },
  {
   "cell_type": "markdown",
   "metadata": {},
   "source": [
    "So according to the Louvain algorithm, our co-occurrence graph has 19 communities, out of 5 are non-tiny. We'll just discard the 14 small ones as uninteresting (not every word needs to be in a community, recall that our graph only includes the ~20,000 most common words anyway), and focus on the 5 big ones.\n",
    "\n",
    "Gladly, they make quite good sense to human intuition. The first one has a lot of social sciences vocabulary in it, we'll call it Social; the second one is clearly hard sciences, maths, and engineering or just Science for short; the second is medicine and biochemistry, aka Biomed; the fourth one clearly Humanities; and the fifth has a theme of ecology and geography, and we'll call it Eco/Geo."
   ]
  },
  {
   "cell_type": "markdown",
   "metadata": {},
   "source": [
    "At this point a note about stability of these communities is in order. I've been running the same community finding on graphs made with only subsets of the data set, leaving out some of the theses, and also tried including more or less words in the co-occurrence graph (remember we picked the arbitrary cutoff of only including words with at least 10 occurrences). The main communities fortunately appear quite stable under such perturbations. Including some what less words or less theses sometimes makes Humanities merge with Social sciences, but otherwise the communities stay roughly as they are. Going the other way, including more rare words in the graph may for instance sometimes cause particle physics to separate from the rest of Science. These kinds of granularity differences, of whether a field splits into a further subfields or merges with its academic neighbour, is quite natural, and doesn't in my view undermine the analysis in any significant way."
   ]
  },
  {
   "cell_type": "markdown",
   "metadata": {},
   "source": [
    "Next, what we would like to do is assign to each word and thesis title a score or label, that would tell us roughly which field(s) it belongs in. The naive way would be to just use to label each word with its respective community, and count how many humanities words appear in a given title, etc. This doesn't seem quite fair though. Clearly some words are in some sense more \"deeply\" in each community. For instance the word \"theory\" gets grouped into social sciences, but obviously it occurs in other contexts as well, unlike the word \"policy\", which is pretty dead giveaway. To account for this effect, we'll give each word a score for how strongly they are connected to each community. This score starts out being 1 for the community the word belongs in and 0 for the others, but we add to it the total weight of edges connecting this word to words in a given community. So a word that is in the Humanities community and co-occurs mostly with other Humanities words gets a high Humanities-score, whereas a word that co-occurs with words from several different communities will have significant scores for all of them. Finally, we'll normalize the scores by the total sum within a field, so for instance the Social score of each word will be divided by the sum of Social scores of all words. This accounts for the fact that some fields include more words, and these words may be more strongly connected in our co-occurrence graph. We'll also multiply the resulting scores by 10,000, just to produce more human-readable numbers."
   ]
  },
  {
   "cell_type": "markdown",
   "metadata": {},
   "source": [
    "First off, use some key words in each community to anchor the names of the fields."
   ]
  },
  {
   "cell_type": "code",
   "execution_count": 32,
   "metadata": {},
   "outputs": [],
   "source": [
    "field_keywords = {\n",
    "    \"education\": \"Social\",\n",
    "    \"cell\": \"Biomed\",\n",
    "    \"magnetism\": \"Science\",\n",
    "    \"ecology\": \"Eco/Geo\",\n",
    "    \"philosophy\": \"Humanities\",\n",
    "}"
   ]
  },
  {
   "cell_type": "markdown",
   "metadata": {},
   "source": [
    "First give each word a score of 1.0 for the community it belongs in according to the Louvain classification. Drop all the small communities we don't care about, and name the columns of the DataFrame with the names given above."
   ]
  },
  {
   "cell_type": "code",
   "execution_count": 33,
   "metadata": {},
   "outputs": [],
   "source": [
    "wordscores = pd.get_dummies(community_labels).astype(np.float_)"
   ]
  },
  {
   "cell_type": "code",
   "execution_count": 34,
   "metadata": {},
   "outputs": [],
   "source": [
    "for word, field in field_keywords.items():\n",
    "    current_label = wordscores.loc[word, :].idxmax()\n",
    "    wordscores.rename(columns={current_label: field}, inplace=True)\n",
    "for c in wordscores.columns:\n",
    "    if not c in field_keywords.values():\n",
    "        wordscores.drop(c, axis=1, inplace=True)\n",
    "fieldnames = wordscores.columns"
   ]
  },
  {
   "cell_type": "markdown",
   "metadata": {},
   "source": [
    "Then add to the scores the weights of the edges connecting each word to words of different communities. This is easy to do with a matrix product with the adjacency matrix of the graph."
   ]
  },
  {
   "cell_type": "code",
   "execution_count": 35,
   "metadata": {},
   "outputs": [],
   "source": [
    "# So to get the scores we want, we need to take the matrix product of the\n",
    "# adjacency matrix of the co-occurrence graph with the current score matrix,\n",
    "# wordscores.values. The graph is way too big to build the whole adjacency\n",
    "# matrix as a dense matrix, but luckily NetworkX has us covered, with the\n",
    "# possibility of creating a scipy sparse matrix instead. However, the pandas\n",
    "# dot function for matrix products insists in converting everything to a dense\n",
    "# matrix to do the product, so we'll have to manually work with the\n",
    "# scipy.sparse matrix instead of a DataFrame. It's not too bad though.\n",
    "adjacency_matrix = nx.to_scipy_sparse_matrix(\n",
    "    cooc_graph, nodelist=wordscores.index, format=\"csr\"\n",
    ")\n",
    "for c in fieldnames:\n",
    "    column_vec = wordscores[c].to_numpy()\n",
    "    scores = adjacency_matrix.dot(column_vec)\n",
    "    scores_series = pd.Series(scores, index=wordscores.index)\n",
    "    wordscores[c] += scores_series\n",
    "del adjacency_matrix  # Release the memory"
   ]
  },
  {
   "cell_type": "markdown",
   "metadata": {},
   "source": [
    "Finally, normalize the scores, and give all the words we did not include in our graph (the ones with fewer than 10 occurrences) a score of 0.0 for everything."
   ]
  },
  {
   "cell_type": "code",
   "execution_count": 36,
   "metadata": {},
   "outputs": [],
   "source": [
    "wordscores *= 10000 / wordscores.sum(axis=0)"
   ]
  },
  {
   "cell_type": "code",
   "execution_count": 37,
   "metadata": {},
   "outputs": [],
   "source": [
    "wordscores = wordscores.reindex(allwords, fill_value=0.0)"
   ]
  },
  {
   "cell_type": "markdown",
   "metadata": {},
   "source": [
    "To check that the scoring system makes sense, let's check the scores for the top words for each field."
   ]
  },
  {
   "cell_type": "code",
   "execution_count": 38,
   "metadata": {},
   "outputs": [
    {
     "name": "stdout",
     "output_type": "stream",
     "text": [
      "\n",
      "Words with highest scores for Social:\n",
      "               Social   Science    Biomed  Humanities   Eco/Geo\n",
      "case         6.716723  0.657182  0.334156    1.066387  0.816086\n",
      "education    6.695847  0.341190  0.215665    1.039075  0.269844\n",
      "experiences  6.526641  0.297143  0.569835    0.717744  0.179647\n",
      "school       6.483865  0.345614  0.290432    0.794999  0.252025\n",
      "students     6.430835  0.366024  0.215439    0.731259  0.177349\n",
      "health       6.255223  0.552894  1.061215    0.513001  0.491674\n",
      "\n",
      "Words with highest scores for Science:\n",
      "            Social   Science    Biomed  Humanities   Eco/Geo\n",
      "high      1.388744  4.503673  0.771652    0.200384  0.572297\n",
      "using     2.154928  4.486702  1.588313    0.248209  0.824461\n",
      "laser     0.341289  4.315170  0.425315    0.051416  0.172774\n",
      "flow      0.762912  4.211298  0.735748    0.097012  0.731297\n",
      "optical   0.421800  4.195425  0.417570    0.061817  0.184297\n",
      "detector  0.246862  4.161888  0.209603    0.112563  0.091157\n",
      "\n",
      "Words with highest scores for Biomed:\n",
      "              Social   Science    Biomed  Humanities   Eco/Geo\n",
      "cells       0.650580  1.191511  6.293296    0.069774  0.361524\n",
      "cell        0.833206  1.181138  6.118855    0.078857  0.510862\n",
      "receptor    0.426488  0.498565  6.042360    0.046470  0.219959\n",
      "expression  0.710838  0.540300  5.833130    0.240900  0.636784\n",
      "rat         0.531832  0.616799  5.777821    0.060370  0.347681\n",
      "gene        0.677382  0.613837  5.683110    0.080593  0.699415\n",
      "\n",
      "Words with highest scores for Humanities:\n",
      "             Social   Science    Biomed  Humanities   Eco/Geo\n",
      "century    2.330036  0.272086  0.175552    4.767523  0.522681\n",
      "centuries  0.952241  0.199807  0.106619    4.667784  0.468744\n",
      "john       0.952291  0.182106  0.112010    4.405140  0.244712\n",
      "theology   1.102907  0.175454  0.160677    4.338892  0.128931\n",
      "works      1.218011  0.289692  0.166877    4.167000  0.257032\n",
      "edition    0.474855  0.146911  0.161759    4.150754  0.175880\n",
      "\n",
      "Words with highest scores for Eco/Geo:\n",
      "            Social   Science    Biomed  Humanities   Eco/Geo\n",
      "l         0.809951  0.546924  1.395153    0.200012  7.947904\n",
      "basin     0.855223  0.469597  0.153280    0.437791  6.328881\n",
      "salmo     0.259562  0.236995  0.770210    0.146493  5.930395\n",
      "ecology   1.022744  0.302703  0.542362    0.271497  5.897572\n",
      "atlantic  0.697421  0.599104  0.540348    0.417421  5.887838\n",
      "brassica  0.166537  0.160085  0.699161    0.050950  5.778494\n"
     ]
    }
   ],
   "source": [
    "num_topwords = 6\n",
    "for c in fieldnames:\n",
    "    print(\"\\nWords with highest scores for {}:\".format(c))\n",
    "    print(wordscores.sort_values(c, ascending=False)[:num_topwords])"
   ]
  },
  {
   "cell_type": "markdown",
   "metadata": {},
   "source": [
    "There's a few funny ones, like \"L\" being the top word in Eco/Geo because it often stands for Carl Linnaeus, the founder of modern taxonomy, in scientific names of species, but overall the scores seem pretty reasonable."
   ]
  },
  {
   "cell_type": "markdown",
   "metadata": {},
   "source": [
    "Next up, computing the scores for each thesis title, by just taking the average of the scores of individual words in the title. This takes a minute or so."
   ]
  },
  {
   "cell_type": "code",
   "execution_count": 39,
   "metadata": {},
   "outputs": [
    {
     "name": "stdout",
     "output_type": "stream",
     "text": [
      "Computing title scores for Social.\n",
      "Computing title scores for Science.\n",
      "Computing title scores for Biomed.\n",
      "Computing title scores for Humanities.\n",
      "Computing title scores for Eco/Geo.\n"
     ]
    }
   ],
   "source": [
    "for c in fieldnames:\n",
    "    print(\"Computing title scores for {}.\".format(c))\n",
    "    # The python sum function is significantly faster here than a sub-DataFrame.sum().\n",
    "    df[c] = df[\"Words\"].apply(\n",
    "        lambda ws: 0.0\n",
    "        if not ws\n",
    "        else sum(wordscores.loc[w, c] for w in ws) / len(ws)\n",
    "    )"
   ]
  },
  {
   "cell_type": "markdown",
   "metadata": {},
   "source": [
    "## Trends in academic fields"
   ]
  },
  {
   "cell_type": "markdown",
   "metadata": {},
   "source": [
    "With each thesis scored on all the academic fields, it's time to see what this data tells us. Let's first see how the scores are distributed."
   ]
  },
  {
   "cell_type": "code",
   "execution_count": 40,
   "metadata": {},
   "outputs": [
    {
     "data": {
      "application/vnd.jupyter.widget-view+json": {
       "model_id": "d53689e668cd4471a173fe4bdce41856",
       "version_major": 2,
       "version_minor": 0
      },
      "text/plain": [
       "Canvas(toolbar=Toolbar(toolitems=[('Home', 'Reset original view', 'home', 'home'), ('Back', 'Back to previous …"
      ]
     },
     "metadata": {},
     "output_type": "display_data"
    }
   ],
   "source": [
    "bins = 50  # For histograms\n",
    "maxscore = 5  # Max score to show on the plot\n",
    "\n",
    "\n",
    "def custom_light_palette(color):\n",
    "    \"\"\" A color palette a bit like seaborn.light_palette, but starts from pure\n",
    "    white and goes to darker shades.\n",
    "    \"\"\"\n",
    "    start = sns.set_hls_values(color, l=1.0)\n",
    "    end = sns.set_hls_values(color, l=0.1)\n",
    "    colors = [start, color, end]\n",
    "    return sns.blend_palette(colors, as_cmap=True)\n",
    "\n",
    "\n",
    "def hist2d(x, y, color, **kwargs):\n",
    "    cmap = custom_light_palette(color)\n",
    "    range = [[0, maxscore]] * 2\n",
    "    plt.hist2d(x, y, bins=bins, range=range, cmap=cmap, **kwargs)\n",
    "\n",
    "\n",
    "def hist(x, color, **kwargs):\n",
    "    range = [0, maxscore]\n",
    "    plt.hist(x, lw=0.0, bins=bins, range=range, **kwargs)\n",
    "\n",
    "\n",
    "def corr(x, y, color, **kwargs):\n",
    "    \"\"\" Given two Series, compute their correlation and produce a pyplot plot\n",
    "    that just has that number as text in the middle, and nothing else.\n",
    "    \"\"\"\n",
    "    corr = x.corr(y)\n",
    "    corr_str = \"{:.3f}\".format(corr)\n",
    "    plt.plot()\n",
    "    ax = plt.gca()\n",
    "    plt.text(\n",
    "        0.5,\n",
    "        0.5,\n",
    "        corr_str,\n",
    "        horizontalalignment=\"center\",\n",
    "        verticalalignment=\"center\",\n",
    "        transform=ax.transAxes,\n",
    "    )\n",
    "    for spine in ax.spines.values():\n",
    "        spine.set_visible(False)\n",
    "    ax.tick_params(axis=\"both\", which=\"both\", length=0)\n",
    "\n",
    "sns.set_style(\"white\")  # We use a different style for this plot than most.\n",
    "g = sns.PairGrid(df[fieldnames], height=1.6)\n",
    "g.map_upper(corr)\n",
    "g.map_lower(hist2d)\n",
    "g.map_diag(hist)\n",
    "g.set(ylim=(0, maxscore), xlim=(0, maxscore))\n",
    "ticks = [0.0, maxscore / 2, maxscore]\n",
    "g.set(xticks=ticks, yticks=ticks)\n",
    "sns.set_style(\"darkgrid\")  # Back to the usual style."
   ]
  },
  {
   "cell_type": "markdown",
   "metadata": {},
   "source": [
    "Here on the diagonal are histograms showing the how many theses get which score, for each of the fields. Above the diagonal, the single numbers shown there are correlation coefficients between the field scores. For instance since the second row of plots is for Science and the fourth column is for Humanities, the number at their intersection, around -0.5, is the correlation coefficient between Science and Humanities scores. Mirroring these correlations, below the diagonal we have 2D histograms showing the distribution of theses for each pair of two fields.\n",
    "\n",
    "Looking first at the 1D histograms on the diagonal, note that the first peak in each of them is not the interesting part. Since we smudged the boundaries of fields by adding neighbouring edge weights when scoring words, most words have a non-zero score for all the fields. The first peaks then represent a sort of baseline value, of what's a usual score for a thesis that isn't really in the given field. The interesting bits are the fat tails, the bulges, around scores of 2 and more. They represent the theses that scores unusually high for a given field.\n",
    "\n",
    "The next observation is that the distributions for different fields are very different. This is natural, given that some (e.g. Eco/Geo) are much more specific than others (e.g. Science). This does mean though that, despite our best attempts to normalize the scores meaningfully, we probably shouldn't assign much meaning to statements like \"this thesis has a much higher Humanities than Social score\", but rather concentrate on correlations and trends that are independent of the overall scale of the scores.\n",
    "\n",
    "The correlations tell us a lot about how distinct the different fields are. The highest positive correlation is between Humanities and Social sciences, which isn't very surprising, and goes together with my observation that sometimes the two fields fuse in the community finding analysis if a smaller data set is used. They both are heavily anti-correlated with Science and Biomed, again matching intuitive expectation. The one thing that somewhat surprises me is that Science, Biomed, and Eco/Geo are virtually independent of each other: I would have guessed topics like chemistry and population biology to cause some mixing between them. This is good though, since it makes the 5-way scoring more meaningful, when the scores aren't predictable from each other. The 2D histograms below the diagonal provide a more detailed visual picture of what is summarised by the correlation coefficients."
   ]
  },
  {
   "cell_type": "markdown",
   "metadata": {},
   "source": [
    "Being pretty happy with our scoring method, lets see what trends we can detect over time and institutions."
   ]
  },
  {
   "cell_type": "markdown",
   "metadata": {},
   "source": [
    "First off, here are the mean scores of theses published in each year, over time."
   ]
  },
  {
   "cell_type": "code",
   "execution_count": 41,
   "metadata": {},
   "outputs": [
    {
     "data": {
      "application/vnd.jupyter.widget-view+json": {
       "model_id": "f3ebac1630b148a39fb4debe2a9b4768",
       "version_major": 2,
       "version_minor": 0
      },
      "text/plain": [
       "Canvas(toolbar=Toolbar(toolitems=[('Home', 'Reset original view', 'home', 'home'), ('Back', 'Back to previous …"
      ]
     },
     "metadata": {},
     "output_type": "display_data"
    }
   ],
   "source": [
    "meanscores_by_year = df.groupby([\"Year\"]).mean().fillna(0.0)\n",
    "g = sns.FacetGrid(\n",
    "    meanscores_by_year.unstack()\n",
    "    .reset_index()\n",
    "    .rename(columns={0: \"Mean score\", \"level_0\": \"Field\"}),\n",
    "    col=\"Field\",\n",
    "    col_wrap=2,\n",
    "    sharex=True,\n",
    "    sharey=True,\n",
    "    height=2.0,\n",
    "    aspect=2.0\n",
    ")\n",
    "g.map(plt.plot, \"Year\", \"Mean score\").set_titles(\"{col_name}\");"
   ]
  },
  {
   "cell_type": "markdown",
   "metadata": {},
   "source": [
    "I see three prominent trends here. \n",
    "* Social sciences first decline in popularity until around 1970, after which they start bouncing back, and have been growing to this day. Humanities follow a more mellow development of roughly the same shape.\n",
    "* Contrasting with that, Science follows an almost opposite development, rising and then falling. Especially notable is the big bulge around the inflection point, in the 60s.\n",
    "* Eco/Geo follows a pretty steady pattern until the 80s, after which it has settled into a decline, that may have leveled off as of late.\n",
    "\n",
    "The reversal of the Social/Humanities vs Science trend coincides roughly with the explosion of PhD production from smaller institutions that we observed earlier, but I'm unsure as to how that connection should be interpreted, and whether these events truly are connected. Regardless, the V-shaped competing curves of soft vs hard fields is clearly the grand narrative in these plots. It would be very interesting to try to compare it to other societal and academic trends, such as gender distributions of PhD graduates, changes in academic funding in the UK, and data on students at earlier stages in their education, such as the popularity of different undergraduate majors and changes in primary and secondary education curricula. For the moment, though, this remains work to be done."
   ]
  },
  {
   "cell_type": "markdown",
   "metadata": {},
   "source": [
    "Finally, we can observe academic trends for individual institutions. For instance, here are the same plots as above, but specific to some of the golden triangle universities."
   ]
  },
  {
   "cell_type": "code",
   "execution_count": 43,
   "metadata": {},
   "outputs": [
    {
     "data": {
      "application/vnd.jupyter.widget-view+json": {
       "model_id": "d97267657377447d9f5142ed7265f779",
       "version_major": 2,
       "version_minor": 0
      },
      "text/plain": [
       "Canvas(toolbar=Toolbar(toolitems=[('Home', 'Reset original view', 'home', 'home'), ('Back', 'Back to previous …"
      ]
     },
     "metadata": {},
     "output_type": "display_data"
    }
   ],
   "source": [
    "select_insts = [\n",
    "    \"University of Cambridge\",\n",
    "    \"Imperial College London\",\n",
    "    \"University of Oxford\",\n",
    "    \"London School of Economics and Political Science (University of London)\",\n",
    "]\n",
    "meanscores_by_yearandinst = (\n",
    "    df[df.Institution.apply(lambda x: x in select_insts)]\n",
    "    .groupby([\"Institution\", \"Year\"])\n",
    "    .mean()\n",
    "    .unstack(\"Institution\")\n",
    "    .fillna(0.0)\n",
    "    .rolling(10, center=True, win_type=\"gaussian\")\n",
    "    .mean(std=3.0)\n",
    "    .dropna()\n",
    "    .stack(level=[0, 1])\n",
    "    .reset_index()\n",
    "    .rename(columns={\"level_1\": \"Field\", 0: \"Mean score\"})\n",
    ")\n",
    "g = sns.FacetGrid(\n",
    "    meanscores_by_yearandinst,\n",
    "    col=\"Field\",\n",
    "    hue=\"Institution\",\n",
    "    hue_order=[\n",
    "        \"University of Oxford\",\n",
    "        \"Imperial College London\",\n",
    "        \"London School of Economics and Political Science (University of London)\",\n",
    "        \"University of Cambridge\",\n",
    "    ],\n",
    "    col_wrap=2,\n",
    "    sharex=True,\n",
    "    sharey=False,\n",
    ")\n",
    "g.map(plt.plot, \"Year\", \"Mean score\")\n",
    "g.set_titles(\"{col_name}\")\n",
    "g.add_legend()\n",
    "g._legend.set_bbox_to_anchor((0.8, 0.25));"
   ]
  },
  {
   "cell_type": "markdown",
   "metadata": {},
   "source": [
    "I've chosen to smooth the curves out a bit by doing a Gaussian rolling average of the data over time. Since there aren't that many theses coming out from a single institution in a single year the plots would look quite noisy and hard to read otherwise.\n",
    "\n",
    "Hardly surprisingly, London School of Economics is heavily leaning towards humanities and social sciences, and consistently puts out PhD theses that score higher in those fields than other universities. Less obviously, the above plot also provides evidence for the often-heard view that of the Oxbridge two, Cambridge is the more science heavy one, whereas Oxford leans towards humanities and social sciences. Imperial lives up to its reputation of being a science school first and foremost. Less expected is its huge growth in Biomed in the 90s and early 2000s, but [Wikipedia](https://en.wikipedia.org/wiki/Imperial_College_London#20th_century) informs me that this is probably due to mergers with several medical institutions around that time."
   ]
  },
  {
   "cell_type": "code",
   "execution_count": null,
   "metadata": {},
   "outputs": [],
   "source": []
  },
  {
   "cell_type": "code",
   "execution_count": null,
   "metadata": {},
   "outputs": [],
   "source": [
    "# TODO\n",
    "# - Abnormal titles with far-apart words (inverse weights, all_pairs_dijkstra_path_length).\n",
    "# - Do a visualization of the graph?\n",
    "# - We vs I\n",
    "# - Can I find correlations between words in titles at institutions, and their university rankings? Suggestion: https://www.leidenranking.com/ranking/2019/chart\n",
    "# - Possible hypotheses to test: Humanities words have less peaked popularity profiles.\n",
    "# - Credit feedback\n",
    "# - Mention more robust comparison of community finding algorithms could be done."
   ]
  },
  {
   "cell_type": "markdown",
   "metadata": {},
   "source": [
    "Finally, if you dig into this dataset yourself and find interesting features I've missed, please let me know: markus@mhauru.org"
   ]
  },
  {
   "cell_type": "code",
   "execution_count": null,
   "metadata": {},
   "outputs": [],
   "source": []
  }
 ],
 "metadata": {
  "kernelspec": {
   "display_name": "Python 3",
   "language": "python",
   "name": "python3"
  },
  "language_info": {
   "codemirror_mode": {
    "name": "ipython",
    "version": 3
   },
   "file_extension": ".py",
   "mimetype": "text/x-python",
   "name": "python",
   "nbconvert_exporter": "python",
   "pygments_lexer": "ipython3",
   "version": "3.7.5"
  }
 },
 "nbformat": 4,
 "nbformat_minor": 4
}
